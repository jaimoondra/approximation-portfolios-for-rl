{
 "cells": [
  {
   "cell_type": "code",
   "id": "initial_id",
   "metadata": {
    "collapsed": true,
    "ExecuteTime": {
     "end_time": "2025-06-05T18:32:40.368955Z",
     "start_time": "2025-06-05T18:32:38.844267Z"
    }
   },
   "source": [
    "from src.p_mean import generalized_p_mean, get_optimum_vector, generate_p_grid\n",
    "from src.portfolio import Policy, Portfolio, budget_portfolio_with_suboptimalities, portfolio_with_line_search, compute_portfolio_worst_approx_ratio, portfolio_of_random_policies, portfolio_of_random_norms, portfolio_with_gpi, gpi\n",
    "import numpy as np\n",
    "import pandas as pd\n",
    "import csv\n",
    "import json\n",
    "from tqdm import tqdm\n",
    "import os\n",
    "import matplotlib.pyplot as plt\n",
    "from scipy import stats\n",
    "from tqdm import tqdm\n",
    "from typing import List, Tuple, Union\n",
    "from scipy.optimize import minimize\n",
    "from itertools import combinations\n",
    "import logging\n",
    "\n",
    "plt.rcParams['figure.dpi'] = 200\n"
   ],
   "outputs": [],
   "execution_count": 1
  },
  {
   "metadata": {},
   "cell_type": "markdown",
   "source": "# Setup",
   "id": "61a58b05d7192d98"
  },
  {
   "metadata": {},
   "cell_type": "markdown",
   "source": "## Load scores",
   "id": "a38756a9a15333d0"
  },
  {
   "metadata": {
    "ExecuteTime": {
     "end_time": "2025-06-05T18:32:42.306341Z",
     "start_time": "2025-06-05T18:32:42.283200Z"
    }
   },
   "cell_type": "code",
   "source": [
    "scores = pd.read_csv('../../data/natural_disaster/simulation_rewards_10000.csv')\n",
    "scores = np.array(scores)\n",
    "scores = [scores[i] for i in range(len(scores))]"
   ],
   "id": "8ee2c5ba5ad90f1c",
   "outputs": [],
   "execution_count": 2
  },
  {
   "metadata": {},
   "cell_type": "markdown",
   "source": "## Initialize parameters",
   "id": "c1867a3c16b8f37e"
  },
  {
   "metadata": {
    "ExecuteTime": {
     "end_time": "2025-06-05T18:32:48.148350Z",
     "start_time": "2025-06-05T18:32:48.144695Z"
    }
   },
   "cell_type": "code",
   "source": [
    "alpha = 0.95\n",
    "N = len(scores[0])\n",
    "p_grid = generate_p_grid(N=N, alpha=alpha, grid_size=500)\n",
    "\n",
    "alpha_values = [0.05 * j for j in range(2, 20)] + [0.99]\n"
   ],
   "id": "fc2c252f44c8c1ff",
   "outputs": [],
   "execution_count": 4
  },
  {
   "metadata": {},
   "cell_type": "markdown",
   "source": "## Helper functions",
   "id": "ab55e5c4ec11b90d"
  },
  {
   "metadata": {
    "ExecuteTime": {
     "end_time": "2025-06-05T18:34:40.633884Z",
     "start_time": "2025-06-05T18:32:48.993990Z"
    }
   },
   "cell_type": "code",
   "source": [
    "def get_optimum_policy(p):\n",
    "    return get_optimum_vector(vectors=scores, p=p)\n",
    "\n",
    "def get_performance(policy, p):\n",
    "    return generalized_p_mean(x=policy.id, p=p)\n",
    "\n",
    "optimal_values = {\n",
    "    p: get_performance(Policy(get_optimum_policy(p)), p) for p in tqdm(p_grid)\n",
    "}\n",
    "\n",
    "def get_optimal_value(p):\n",
    "    if p in optimal_values.keys():\n",
    "        return optimal_values[p]\n",
    "    else:\n",
    "        return get_performance(Policy(get_optimum_policy(p)), p)\n"
   ],
   "id": "c4dce0a879b425ca",
   "outputs": [
    {
     "name": "stderr",
     "output_type": "stream",
     "text": [
      "100%|██████████| 500/500 [01:51<00:00,  4.48it/s]\n"
     ]
    }
   ],
   "execution_count": 5
  },
  {
   "metadata": {},
   "cell_type": "markdown",
   "source": "# Compute portfolios",
   "id": "d5f26142a1e9f989"
  },
  {
   "metadata": {},
   "cell_type": "markdown",
   "source": "## Heuristic portfolio",
   "id": "254b00eb4ee6295e"
  },
  {
   "metadata": {
    "ExecuteTime": {
     "end_time": "2025-06-05T12:32:04.913480Z",
     "start_time": "2025-06-05T12:31:53.194570Z"
    }
   },
   "cell_type": "code",
   "source": [
    "heuristic_results = pd.DataFrame(\n",
    "    columns=['K', 'portfolio_size', 'approximation', 'p_values']\n",
    ")\n",
    "heuristic_results.set_index('K', inplace=True)\n",
    "\n",
    "for K in range(1, 11):\n",
    "    heuristic_portfolio = budget_portfolio_with_suboptimalities(\n",
    "        initial_p=-100, K=K, get_optimum_policy=get_optimum_policy, get_performance=get_performance,\n",
    "    )\n",
    "    \n",
    "    print('p values', [policy.p for policy in heuristic_portfolio])\n",
    "    \n",
    "    heuristic_approximation = compute_portfolio_worst_approx_ratio(\n",
    "        portfolio=heuristic_portfolio, get_performance=get_performance,\n",
    "        get_optimal_value=get_optimal_value, p_grid=p_grid\n",
    "    )\n",
    "    \n",
    "    heuristic_results.at[K, 'portfolio_size'] = len(heuristic_portfolio)\n",
    "    heuristic_results.at[K, 'approximation'] = heuristic_approximation\n",
    "    heuristic_results.at[K, 'p_values'] = [round(policy.p, 3) for policy in heuristic_portfolio]\n",
    "    \n",
    "    print(heuristic_approximation)\n"
   ],
   "id": "fa7826f60273450c",
   "outputs": [
    {
     "name": "stdout",
     "output_type": "stream",
     "text": [
      "p values [-100]\n",
      "0.8841216592340674\n",
      "p values [-100, 1.0]\n",
      "0.9210593070168996\n",
      "p values [-100, 1.0, -49.5]\n",
      "0.9210593070168996\n",
      "p values [-100, 1.0, -49.5, -24.25]\n",
      "0.9210593070168996\n",
      "p values [-100, 1.0, -49.5, -24.25, -11.625]\n",
      "0.9210593070168996\n",
      "p values [-100, 1.0, -49.5, -24.25, -11.625, -5.3125]\n",
      "0.9210593070168996\n",
      "p values [-100, 1.0, -49.5, -24.25, -11.625, -5.3125, -2.15625]\n",
      "0.999841584518195\n",
      "p values [-100, 1.0, -49.5, -24.25, -11.625, -5.3125, -2.15625, -0.578125]\n",
      "0.999841584518195\n",
      "p values [-100, 1.0, -49.5, -24.25, -11.625, -5.3125, -2.15625, -0.578125, 0.2109375]\n",
      "0.999841584518195\n",
      "p values [-100, 1.0, -49.5, -24.25, -11.625, -5.3125, -2.15625, -0.578125, 0.2109375, 0.60546875]\n",
      "1.0\n"
     ]
    }
   ],
   "execution_count": 5
  },
  {
   "metadata": {
    "ExecuteTime": {
     "end_time": "2025-06-05T12:37:25.352305Z",
     "start_time": "2025-06-05T12:37:25.339717Z"
    }
   },
   "cell_type": "code",
   "source": "heuristic_results",
   "id": "9165e97cc43e7343",
   "outputs": [
    {
     "data": {
      "text/plain": [
       "   portfolio_size approximation  \\\n",
       "K                                 \n",
       "1               1      0.884122   \n",
       "2               2      0.921059   \n",
       "3               3      0.921059   \n",
       "4               4      0.921059   \n",
       "5               5      0.921059   \n",
       "6               6      0.921059   \n",
       "7               7      0.999842   \n",
       "8               8      0.999842   \n",
       "9               9      0.999842   \n",
       "10             10           1.0   \n",
       "\n",
       "                                             p_values  \n",
       "K                                                      \n",
       "1                                              [-100]  \n",
       "2                                         [-100, 1.0]  \n",
       "3                                  [-100, 1.0, -49.5]  \n",
       "4                          [-100, 1.0, -49.5, -24.25]  \n",
       "5                 [-100, 1.0, -49.5, -24.25, -11.625]  \n",
       "6         [-100, 1.0, -49.5, -24.25, -11.625, -5.312]  \n",
       "7   [-100, 1.0, -49.5, -24.25, -11.625, -5.312, -2...  \n",
       "8   [-100, 1.0, -49.5, -24.25, -11.625, -5.312, -2...  \n",
       "9   [-100, 1.0, -49.5, -24.25, -11.625, -5.312, -2...  \n",
       "10  [-100, 1.0, -49.5, -24.25, -11.625, -5.312, -2...  "
      ],
      "text/html": [
       "<div>\n",
       "<style scoped>\n",
       "    .dataframe tbody tr th:only-of-type {\n",
       "        vertical-align: middle;\n",
       "    }\n",
       "\n",
       "    .dataframe tbody tr th {\n",
       "        vertical-align: top;\n",
       "    }\n",
       "\n",
       "    .dataframe thead th {\n",
       "        text-align: right;\n",
       "    }\n",
       "</style>\n",
       "<table border=\"1\" class=\"dataframe\">\n",
       "  <thead>\n",
       "    <tr style=\"text-align: right;\">\n",
       "      <th></th>\n",
       "      <th>portfolio_size</th>\n",
       "      <th>approximation</th>\n",
       "      <th>p_values</th>\n",
       "    </tr>\n",
       "    <tr>\n",
       "      <th>K</th>\n",
       "      <th></th>\n",
       "      <th></th>\n",
       "      <th></th>\n",
       "    </tr>\n",
       "  </thead>\n",
       "  <tbody>\n",
       "    <tr>\n",
       "      <th>1</th>\n",
       "      <td>1</td>\n",
       "      <td>0.884122</td>\n",
       "      <td>[-100]</td>\n",
       "    </tr>\n",
       "    <tr>\n",
       "      <th>2</th>\n",
       "      <td>2</td>\n",
       "      <td>0.921059</td>\n",
       "      <td>[-100, 1.0]</td>\n",
       "    </tr>\n",
       "    <tr>\n",
       "      <th>3</th>\n",
       "      <td>3</td>\n",
       "      <td>0.921059</td>\n",
       "      <td>[-100, 1.0, -49.5]</td>\n",
       "    </tr>\n",
       "    <tr>\n",
       "      <th>4</th>\n",
       "      <td>4</td>\n",
       "      <td>0.921059</td>\n",
       "      <td>[-100, 1.0, -49.5, -24.25]</td>\n",
       "    </tr>\n",
       "    <tr>\n",
       "      <th>5</th>\n",
       "      <td>5</td>\n",
       "      <td>0.921059</td>\n",
       "      <td>[-100, 1.0, -49.5, -24.25, -11.625]</td>\n",
       "    </tr>\n",
       "    <tr>\n",
       "      <th>6</th>\n",
       "      <td>6</td>\n",
       "      <td>0.921059</td>\n",
       "      <td>[-100, 1.0, -49.5, -24.25, -11.625, -5.312]</td>\n",
       "    </tr>\n",
       "    <tr>\n",
       "      <th>7</th>\n",
       "      <td>7</td>\n",
       "      <td>0.999842</td>\n",
       "      <td>[-100, 1.0, -49.5, -24.25, -11.625, -5.312, -2...</td>\n",
       "    </tr>\n",
       "    <tr>\n",
       "      <th>8</th>\n",
       "      <td>8</td>\n",
       "      <td>0.999842</td>\n",
       "      <td>[-100, 1.0, -49.5, -24.25, -11.625, -5.312, -2...</td>\n",
       "    </tr>\n",
       "    <tr>\n",
       "      <th>9</th>\n",
       "      <td>9</td>\n",
       "      <td>0.999842</td>\n",
       "      <td>[-100, 1.0, -49.5, -24.25, -11.625, -5.312, -2...</td>\n",
       "    </tr>\n",
       "    <tr>\n",
       "      <th>10</th>\n",
       "      <td>10</td>\n",
       "      <td>1.0</td>\n",
       "      <td>[-100, 1.0, -49.5, -24.25, -11.625, -5.312, -2...</td>\n",
       "    </tr>\n",
       "  </tbody>\n",
       "</table>\n",
       "</div>"
      ]
     },
     "execution_count": 10,
     "metadata": {},
     "output_type": "execute_result"
    }
   ],
   "execution_count": 10
  },
  {
   "metadata": {
    "ExecuteTime": {
     "end_time": "2025-06-05T12:32:07.776374Z",
     "start_time": "2025-06-05T12:32:07.768985Z"
    }
   },
   "cell_type": "code",
   "source": "heuristic_results.to_csv('../../data/natural_disaster/heuristic_portfolio.csv')",
   "id": "6c15824d7ea1bf15",
   "outputs": [],
   "execution_count": 6
  },
  {
   "metadata": {},
   "cell_type": "markdown",
   "source": "## Line search portfolio",
   "id": "c82470cd42e7deaa"
  },
  {
   "metadata": {
    "ExecuteTime": {
     "end_time": "2025-06-05T12:37:19.514244Z",
     "start_time": "2025-06-05T12:36:37.885842Z"
    }
   },
   "cell_type": "code",
   "source": [
    "line_search_results = pd.DataFrame(\n",
    "    columns=['K', 'alpha', 'oracle_calls', 'approximation', 'p_values']\n",
    ")\n",
    "line_search_results.set_index('K', inplace=True)\n",
    "\n",
    "for alpha in alpha_values:\n",
    "    line_search_portfolio = portfolio_with_line_search(\n",
    "        vectors=scores, alpha=alpha\n",
    "    )\n",
    "\n",
    "    print('alpha:', alpha)\n",
    "    print('p values:', [policy.p for policy in line_search_portfolio])\n",
    "    print('oracle calls:', line_search_portfolio.oracle_calls)\n",
    "    print('portfolio size:', len(line_search_portfolio))\n",
    "\n",
    "    K = len(line_search_portfolio)\n",
    "\n",
    "    if not K in line_search_results.index:\n",
    "        line_search_approximation = compute_portfolio_worst_approx_ratio(\n",
    "            portfolio=line_search_portfolio, get_performance=get_performance,\n",
    "            get_optimal_value=get_optimal_value, p_grid=p_grid\n",
    "        )\n",
    "        line_search_results.at[K, 'alpha'] = alpha\n",
    "        line_search_results.at[K, 'oracle_calls'] = line_search_portfolio.oracle_calls\n",
    "        line_search_results.at[K, 'approximation'] = line_search_approximation\n",
    "        line_search_results.at[K, 'p_values'] = [round(policy.p, 3) for policy in line_search_portfolio]\n",
    "\n",
    "        print('approximation:', line_search_approximation)\n",
    "        \n",
    "        if line_search_approximation == 1.0:\n",
    "            print('Found optimal portfolio for alpha =', alpha)\n",
    "            break\n",
    "        "
   ],
   "id": "603ed4638f94d10",
   "outputs": [
    {
     "name": "stdout",
     "output_type": "stream",
     "text": [
      "alpha: 0.1\n",
      "p values: [np.float64(-1.0791812460476249)]\n",
      "oracle calls: 1\n",
      "portfolio size: 1\n",
      "approximation: 0.7059164029166533\n",
      "alpha: 0.15000000000000002\n",
      "p values: [np.float64(-1.3098310436793363)]\n",
      "oracle calls: 1\n",
      "portfolio size: 1\n",
      "alpha: 0.2\n",
      "p values: [np.float64(-1.5439593106327716)]\n",
      "oracle calls: 1\n",
      "portfolio size: 1\n",
      "alpha: 0.25\n",
      "p values: [np.float64(-1.7924812503605783)]\n",
      "oracle calls: 1\n",
      "portfolio size: 1\n",
      "alpha: 0.30000000000000004\n",
      "p values: [np.float64(-2.0639225743800886)]\n",
      "oracle calls: 1\n",
      "portfolio size: 1\n",
      "alpha: 0.35000000000000003\n",
      "p values: [np.float64(-2.3669787403029057)]\n",
      "oracle calls: 1\n",
      "portfolio size: 1\n",
      "alpha: 0.4\n",
      "p values: [np.float64(-2.7119194414478502)]\n",
      "oracle calls: 1\n",
      "portfolio size: 1\n",
      "alpha: 0.45\n",
      "p values: [np.float64(-3.111938258777043)]\n",
      "oracle calls: 2\n",
      "portfolio size: 1\n",
      "alpha: 0.5\n",
      "p values: [np.float64(-3.5849625007211565)]\n",
      "oracle calls: 3\n",
      "portfolio size: 1\n",
      "alpha: 0.55\n",
      "p values: [np.float64(-4.15649524309681)]\n",
      "oracle calls: 3\n",
      "portfolio size: 1\n",
      "alpha: 0.6000000000000001\n",
      "p values: [np.float64(-4.864491000800574)]\n",
      "oracle calls: 4\n",
      "portfolio size: 1\n",
      "alpha: 0.65\n",
      "p values: [np.float64(-5.768350036552267)]\n",
      "oracle calls: 4\n",
      "portfolio size: 1\n",
      "alpha: 0.7000000000000001\n",
      "p values: [np.float64(-6.966866307869511)]\n",
      "oracle calls: 5\n",
      "portfolio size: 1\n",
      "alpha: 0.75\n",
      "p values: [np.float64(-8.637683358612836), np.float64(-0.20471041982660454)]\n",
      "oracle calls: 7\n",
      "portfolio size: 2\n",
      "approximation: 0.9033277197104225\n",
      "alpha: 0.8\n",
      "p values: [np.float64(-11.13591065102746), np.float64(-0.5169888313784325)]\n",
      "oracle calls: 8\n",
      "portfolio size: 2\n",
      "alpha: 0.8500000000000001\n",
      "p values: [np.float64(-15.289952114913627), np.float64(-1.0362440143642033)]\n",
      "oracle calls: 13\n",
      "portfolio size: 2\n",
      "alpha: 0.9\n",
      "p values: [np.float64(-23.584799621312587), np.float64(-2.0730999526640734), np.float64(0.6158625059169909)]\n",
      "oracle calls: 18\n",
      "portfolio size: 3\n",
      "approximation: 0.9977017060447189\n",
      "alpha: 0.9500000000000001\n",
      "p values: [np.float64(-48.44505854923444), np.float64(-2.0903161593271524), np.float64(0.44999011715100246), np.float64(0.5874925878632518), np.float64(0.6906194408974389)]\n",
      "oracle calls: 50\n",
      "portfolio size: 5\n",
      "approximation: 1.0\n",
      "Found optimal portfolio for alpha = 0.9500000000000001\n"
     ]
    }
   ],
   "execution_count": 9
  },
  {
   "metadata": {
    "ExecuteTime": {
     "end_time": "2025-06-05T12:38:02.545325Z",
     "start_time": "2025-06-05T12:38:02.536136Z"
    }
   },
   "cell_type": "code",
   "source": "line_search_results",
   "id": "21b378debf41a155",
   "outputs": [
    {
     "data": {
      "text/plain": [
       "  alpha oracle_calls approximation                              p_values\n",
       "K                                                                       \n",
       "1   0.1            1      0.705916                              [-1.079]\n",
       "2  0.75            7      0.903328                      [-8.638, -0.205]\n",
       "3   0.9           18      0.997702              [-23.585, -2.073, 0.616]\n",
       "5  0.95           50           1.0  [-48.445, -2.09, 0.45, 0.587, 0.691]"
      ],
      "text/html": [
       "<div>\n",
       "<style scoped>\n",
       "    .dataframe tbody tr th:only-of-type {\n",
       "        vertical-align: middle;\n",
       "    }\n",
       "\n",
       "    .dataframe tbody tr th {\n",
       "        vertical-align: top;\n",
       "    }\n",
       "\n",
       "    .dataframe thead th {\n",
       "        text-align: right;\n",
       "    }\n",
       "</style>\n",
       "<table border=\"1\" class=\"dataframe\">\n",
       "  <thead>\n",
       "    <tr style=\"text-align: right;\">\n",
       "      <th></th>\n",
       "      <th>alpha</th>\n",
       "      <th>oracle_calls</th>\n",
       "      <th>approximation</th>\n",
       "      <th>p_values</th>\n",
       "    </tr>\n",
       "    <tr>\n",
       "      <th>K</th>\n",
       "      <th></th>\n",
       "      <th></th>\n",
       "      <th></th>\n",
       "      <th></th>\n",
       "    </tr>\n",
       "  </thead>\n",
       "  <tbody>\n",
       "    <tr>\n",
       "      <th>1</th>\n",
       "      <td>0.1</td>\n",
       "      <td>1</td>\n",
       "      <td>0.705916</td>\n",
       "      <td>[-1.079]</td>\n",
       "    </tr>\n",
       "    <tr>\n",
       "      <th>2</th>\n",
       "      <td>0.75</td>\n",
       "      <td>7</td>\n",
       "      <td>0.903328</td>\n",
       "      <td>[-8.638, -0.205]</td>\n",
       "    </tr>\n",
       "    <tr>\n",
       "      <th>3</th>\n",
       "      <td>0.9</td>\n",
       "      <td>18</td>\n",
       "      <td>0.997702</td>\n",
       "      <td>[-23.585, -2.073, 0.616]</td>\n",
       "    </tr>\n",
       "    <tr>\n",
       "      <th>5</th>\n",
       "      <td>0.95</td>\n",
       "      <td>50</td>\n",
       "      <td>1.0</td>\n",
       "      <td>[-48.445, -2.09, 0.45, 0.587, 0.691]</td>\n",
       "    </tr>\n",
       "  </tbody>\n",
       "</table>\n",
       "</div>"
      ]
     },
     "execution_count": 11,
     "metadata": {},
     "output_type": "execute_result"
    }
   ],
   "execution_count": 11
  },
  {
   "metadata": {},
   "cell_type": "code",
   "source": "line_search_results.to_csv('../../data/natural_disaster/line_search_portfolio.csv')",
   "id": "d51f61522c51d426",
   "outputs": [],
   "execution_count": null
  },
  {
   "metadata": {},
   "cell_type": "markdown",
   "source": "## Random norm portfolio",
   "id": "3a1a242e09cc86f9"
  },
  {
   "metadata": {
    "ExecuteTime": {
     "end_time": "2025-06-05T12:43:59.511468Z",
     "start_time": "2025-06-05T12:42:17.673085Z"
    }
   },
   "cell_type": "code",
   "source": [
    "alpha_0 = 0.90\n",
    "initial_p = - np.log(N)/np.log(1/alpha_0)\n",
    "\n",
    "K_values = np.arange(1, 10)\n",
    "random_norm_results = pd.DataFrame(columns=['K', 'approximation'])\n",
    "random_norm_results.set_index('K', inplace=True)\n",
    "\n",
    "T = 10\n",
    "\n",
    "for K in K_values:\n",
    "    avg_approximation = 0\n",
    "    for t in range(T):\n",
    "        portfolio_random_norm_sample = portfolio_of_random_norms(\n",
    "            initial_p=initial_p,\n",
    "            K=K,\n",
    "            get_optimum_policy=get_optimum_policy,\n",
    "            seed=t\n",
    "        )\n",
    "        actual_approximation_random_norm_sample = compute_portfolio_worst_approx_ratio(\n",
    "            portfolio=portfolio_random_norm_sample,\n",
    "            get_optimal_value=get_optimal_value,\n",
    "            p_grid=p_grid,\n",
    "            get_performance=get_performance\n",
    "        )\n",
    "        actual_approximation_random_norm_sample = np.round(actual_approximation_random_norm_sample, 4)\n",
    "        avg_approximation += actual_approximation_random_norm_sample\n",
    "\n",
    "    avg_approximation /= T\n",
    "    random_norm_results.at[K, 'approximation'] = avg_approximation\n",
    "\n",
    "    print('K = ' + str(K) + ', actual approximation = ' + str(avg_approximation))\n"
   ],
   "id": "23dbccd4e6d97665",
   "outputs": [
    {
     "name": "stdout",
     "output_type": "stream",
     "text": [
      "K = 1, actual approximation = 0.83064\n",
      "K = 2, actual approximation = 0.8720399999999999\n",
      "K = 3, actual approximation = 0.8720399999999999\n",
      "K = 4, actual approximation = 0.89178\n",
      "K = 5, actual approximation = 0.89893\n",
      "K = 6, actual approximation = 0.89893\n",
      "K = 7, actual approximation = 0.9008499999999999\n",
      "K = 8, actual approximation = 0.9008499999999999\n",
      "K = 9, actual approximation = 0.9008499999999999\n"
     ]
    }
   ],
   "execution_count": 17
  },
  {
   "metadata": {
    "ExecuteTime": {
     "end_time": "2025-06-05T12:44:06.784337Z",
     "start_time": "2025-06-05T12:44:06.780468Z"
    }
   },
   "cell_type": "code",
   "source": "random_norm_results.to_csv('../../data/natural_disaster/random_norm_portfolio.csv')",
   "id": "af19acbed65755c7",
   "outputs": [],
   "execution_count": 18
  },
  {
   "metadata": {},
   "cell_type": "markdown",
   "source": "## Random policy portfolio",
   "id": "a7a71345dd517bbf"
  },
  {
   "metadata": {
    "ExecuteTime": {
     "end_time": "2025-06-05T12:44:23.196067Z",
     "start_time": "2025-06-05T12:44:16.737724Z"
    }
   },
   "cell_type": "code",
   "source": [
    "K_values = np.arange(1, 10)\n",
    "random_policy_results = pd.DataFrame(columns=['K', 'approximation'])\n",
    "random_policy_results.set_index('K', inplace=True)\n",
    "\n",
    "T = 10\n",
    "\n",
    "for K in K_values:\n",
    "    avg_approximation = 0\n",
    "    for t in range(T):\n",
    "        portfolio_random_policy = portfolio_of_random_policies(\n",
    "            policies=[Policy(scores[i]) for i in range(len(scores))], K=K\n",
    "        )\n",
    "        actual_approximation_random_policy = compute_portfolio_worst_approx_ratio(\n",
    "            portfolio=portfolio_random_policy,\n",
    "            get_optimal_value=get_optimal_value,\n",
    "            p_grid=p_grid,\n",
    "            get_performance=get_performance\n",
    "        )\n",
    "        avg_approximation += actual_approximation_random_policy\n",
    "    avg_approximation = np.round(avg_approximation/T, 4)\n",
    "    random_policy_results.loc[K, 'approximation'] = avg_approximation\n",
    "\n",
    "    print('K = ' + str(K) + ', actual approximation = ' + str(avg_approximation))\n"
   ],
   "id": "f6bb0c4de114f15b",
   "outputs": [
    {
     "name": "stdout",
     "output_type": "stream",
     "text": [
      "K = 1, actual approximation = 0.5445\n",
      "K = 2, actual approximation = 0.5383\n",
      "K = 3, actual approximation = 0.561\n",
      "K = 4, actual approximation = 0.6136\n",
      "K = 5, actual approximation = 0.6117\n",
      "K = 6, actual approximation = 0.6304\n",
      "K = 7, actual approximation = 0.5924\n",
      "K = 8, actual approximation = 0.6205\n",
      "K = 9, actual approximation = 0.6406\n"
     ]
    }
   ],
   "execution_count": 19
  },
  {
   "metadata": {
    "ExecuteTime": {
     "end_time": "2025-06-05T12:44:25.521485Z",
     "start_time": "2025-06-05T12:44:25.517274Z"
    }
   },
   "cell_type": "code",
   "source": "random_policy_results.to_csv('../../data/natural_disaster/random_policy_portfolio.csv')",
   "id": "c40c7ac107765c01",
   "outputs": [],
   "execution_count": 20
  },
  {
   "metadata": {},
   "cell_type": "markdown",
   "source": "## GPI portfolio",
   "id": "aea76b4797a9d6c0"
  },
  {
   "metadata": {
    "ExecuteTime": {
     "end_time": "2025-06-05T12:44:29.532124Z",
     "start_time": "2025-06-05T12:44:29.513958Z"
    }
   },
   "cell_type": "code",
   "source": [
    "from pyomo.environ import *\n",
    "from src.portfolio import optimal_vector_for_given_weight, Portfolio, Policy\n",
    "\n",
    "\n",
    "def find_maximal_weight_vector_pyomo(vectors, chosen_vectors):\n",
    "    d = len(vectors[0])  # dimensionality\n",
    "    n = len(vectors)\n",
    "    m = len(chosen_vectors)\n",
    "\n",
    "    model = ConcreteModel()\n",
    "\n",
    "    model.J = RangeSet(0, d - 1)\n",
    "    model.I = RangeSet(0, n - 1)\n",
    "    model.K = RangeSet(0, m - 1)\n",
    "\n",
    "    # Variables\n",
    "    model.w = Var(model.J, domain=NonNegativeReals)\n",
    "    model.x = Var(model.I, domain=Binary)\n",
    "    model.y = Var(model.K, domain=Binary)\n",
    "\n",
    "    # Constraint: sum of weights = 1\n",
    "    model.sum_weights = Constraint(expr=sum(model.w[j] for j in model.J) == 1)\n",
    "\n",
    "    # Constraint: exactly one vector selected in both sets\n",
    "    model.one_x = Constraint(expr=sum(model.x[i] for i in model.I) == 1)\n",
    "    model.one_y = Constraint(expr=sum(model.y[k] for k in model.K) == 1)\n",
    "\n",
    "    # Objective\n",
    "    def objective_expr(model):\n",
    "        # max over all vectors\n",
    "        value = sum(model.w[j] * sum(model.x[i] * vectors[i][j] for i in model.I) for j in model.J)\n",
    "        # max over chosen_vectors\n",
    "        value -= sum(model.w[j] * sum(model.y[k] * chosen_vectors[k][j] for k in model.K) for j in model.J)\n",
    "        return value\n",
    "\n",
    "    model.obj = Objective(rule=objective_expr, sense=maximize)\n",
    "\n",
    "    # Solve\n",
    "    solver = SolverFactory('baron')\n",
    "    solver.options['MaxTime'] = 20\n",
    "    solver.options[\"epsr\"] = 1e-2  # for example, 1% relative gap\n",
    "    solver.options[\"PrLevel\"] = 3          # more verbosity\n",
    "    solver.options[\"Debug\"] = 1\n",
    "    result = solver.solve(model, tee=True)\n",
    "\n",
    "    if result.solver.termination_condition == TerminationCondition.optimal:\n",
    "        w_opt = [model.w[j].value for j in model.J]\n",
    "        # chosen_v = vectors[[i for i in model.I if model.x[i].value > 0.5][0]]\n",
    "        # chosen_c = chosen_vectors[[k for k in model.K if model.y[k].value > 0.5][0]]\n",
    "        i_star = next(i for i in model.I if value(model.x[i]) > 0.5)\n",
    "        chosen_v = vectors[i_star]\n",
    "        obj_val = value(model.obj)\n",
    "        return w_opt, chosen_v, obj_val\n",
    "    else:\n",
    "        print(\"Solver failed:\", result.solver.termination_condition)\n",
    "        return None, None, None\n",
    "\n",
    "\n",
    "import numpy as np\n",
    "from scipy.optimize import differential_evolution\n",
    "\n",
    "def find_maximal_weight_vector_evolution(vectors, chosen_vectors):\n",
    "    d = len(vectors[0])\n",
    "    vectors = np.array(vectors)\n",
    "    chosen_vectors = np.array(chosen_vectors)\n",
    "\n",
    "    def objective(w_raw):\n",
    "        w = np.maximum(w_raw, 0)\n",
    "        w /= np.sum(w) + 1e-12  # Normalize to ensure sum to 1 and avoid divide-by-zero\n",
    "        opt_all = np.max(vectors @ w)\n",
    "        opt_chosen = np.max(chosen_vectors @ w)\n",
    "        return opt_chosen - opt_all  # want to minimize this difference\n",
    "\n",
    "    bounds = [(0, 1)] * d\n",
    "    result = differential_evolution(objective, bounds, tol=1e-2, popsize=100, disp=False)\n",
    "\n",
    "    if result.success:\n",
    "        w_opt = result.x / np.sum(result.x)\n",
    "        scores = vectors @ w_opt\n",
    "        i_star = np.argmax(scores)\n",
    "        chosen_v = vectors[i_star]\n",
    "        obj_val = np.max(scores) - np.max(chosen_vectors @ w_opt)\n",
    "        return w_opt.tolist(), chosen_v.tolist(), obj_val\n",
    "    else:\n",
    "        print(\"Differential evolution failed:\", result.message)\n",
    "        return None, None, None\n",
    "\n",
    "\n",
    "def gpi_with_pyomo(vectors):\n",
    "    weight_vectors = []\n",
    "    chosen_vectors = []\n",
    "\n",
    "    N = len(vectors[0]) if len(vectors) > 0 else 0\n",
    "\n",
    "    weight_vector = np.array([1] + [0] * (N - 1))  # Start with the first vector having weight 1 and others 0\n",
    "    optimal_vector, optimal_value = optimal_vector_for_given_weight(vectors, weight_vector)\n",
    "\n",
    "    # Store the first vector as the chosen vector\n",
    "    chosen_vectors.append(optimal_vector)\n",
    "    weight_vectors.append(weight_vector)\n",
    "\n",
    "    # Iterate to find the next vectors\n",
    "    iteration = 0\n",
    "    while optimal_value > 0:\n",
    "        print(f\"Iteration {iteration}\")\n",
    "        iteration += 1\n",
    "        # Find the next weight vector that maximizes the objective function\n",
    "        # based on the current chosen vectors\n",
    "        weight_vector, optimal_vector, optimal_value = find_maximal_weight_vector_evolution(vectors, chosen_vectors)\n",
    "        # print(f\"Optimal Value: {optimal_value}, Weight Vector: {weight_vector}\")\n",
    "\n",
    "        if optimal_vector is None:\n",
    "            raise ValueError(\"No optimal vector found. The optimization process failed.\")\n",
    "\n",
    "        # Append the chosen vector to the list of chosen vectors\n",
    "        chosen_vectors.append(optimal_vector)\n",
    "        # Append the weight vector to the list of weight vectors\n",
    "        weight_vectors.append(weight_vector)\n",
    "        \n",
    "        if iteration >= 10:\n",
    "            print(\"Stopping after 10 iterations.\")\n",
    "            break\n",
    "\n",
    "    return weight_vectors, chosen_vectors\n",
    "\n",
    "\n",
    "def portfolio_with_gpi_pyomo(vectors):\n",
    "    weight_vectors, chosen_vectors = gpi_with_pyomo(vectors)\n",
    "\n",
    "    portfolio = Portfolio('GPI Portfolio')\n",
    "    for chosen_vector in chosen_vectors:\n",
    "        policy = Policy(chosen_vector)\n",
    "        portfolio.add_policy(policy)\n",
    "\n",
    "    return portfolio\n"
   ],
   "id": "890fbdd1d94a144c",
   "outputs": [],
   "execution_count": 21
  },
  {
   "metadata": {
    "ExecuteTime": {
     "end_time": "2025-06-05T12:45:58.574397Z",
     "start_time": "2025-06-05T12:44:58.592999Z"
    }
   },
   "cell_type": "code",
   "source": [
    "gpi_results = pd.DataFrame(\n",
    "    columns=['K', 'approximation']\n",
    ")\n",
    "\n",
    "gpi_results.set_index('K', inplace=True)\n",
    "\n",
    "gpi_portfolio = portfolio_with_gpi_pyomo(vectors=scores)\n",
    "policies = list(gpi_portfolio.policies)\n",
    "\n",
    "print('There are ' + str(len(policies)) + ' policies in the GPI portfolio.')\n",
    "\n",
    "for K in range(1, len(gpi_portfolio) + 1):\n",
    "    portfolio = Portfolio()\n",
    "    for i in range(K):\n",
    "        portfolio.add_policy(policies[i])\n",
    "        \n",
    "    gpi_approximation = compute_portfolio_worst_approx_ratio(\n",
    "        portfolio=portfolio, get_performance=get_performance,\n",
    "        get_optimal_value=get_optimal_value, p_grid=p_grid\n",
    "    )\n",
    "    \n",
    "    print('K:', K)\n",
    "    print('Approximation:', gpi_approximation)\n",
    "    \n",
    "    gpi_results.loc[K, 'approximation'] = gpi_approximation"
   ],
   "id": "19b781cb974eb3c1",
   "outputs": [
    {
     "name": "stdout",
     "output_type": "stream",
     "text": [
      "Iteration 0\n"
     ]
    },
    {
     "ename": "KeyboardInterrupt",
     "evalue": "",
     "output_type": "error",
     "traceback": [
      "\u001B[0;31m---------------------------------------------------------------------------\u001B[0m",
      "\u001B[0;31mKeyboardInterrupt\u001B[0m                         Traceback (most recent call last)",
      "Cell \u001B[0;32mIn[22], line 7\u001B[0m\n\u001B[1;32m      1\u001B[0m gpi_results \u001B[38;5;241m=\u001B[39m pd\u001B[38;5;241m.\u001B[39mDataFrame(\n\u001B[1;32m      2\u001B[0m     columns\u001B[38;5;241m=\u001B[39m[\u001B[38;5;124m'\u001B[39m\u001B[38;5;124mK\u001B[39m\u001B[38;5;124m'\u001B[39m, \u001B[38;5;124m'\u001B[39m\u001B[38;5;124mapproximation\u001B[39m\u001B[38;5;124m'\u001B[39m]\n\u001B[1;32m      3\u001B[0m )\n\u001B[1;32m      5\u001B[0m gpi_results\u001B[38;5;241m.\u001B[39mset_index(\u001B[38;5;124m'\u001B[39m\u001B[38;5;124mK\u001B[39m\u001B[38;5;124m'\u001B[39m, inplace\u001B[38;5;241m=\u001B[39m\u001B[38;5;28;01mTrue\u001B[39;00m)\n\u001B[0;32m----> 7\u001B[0m gpi_portfolio \u001B[38;5;241m=\u001B[39m \u001B[43mportfolio_with_gpi_pyomo\u001B[49m\u001B[43m(\u001B[49m\u001B[43mvectors\u001B[49m\u001B[38;5;241;43m=\u001B[39;49m\u001B[43mscores\u001B[49m\u001B[43m)\u001B[49m\n\u001B[1;32m      8\u001B[0m policies \u001B[38;5;241m=\u001B[39m \u001B[38;5;28mlist\u001B[39m(gpi_portfolio\u001B[38;5;241m.\u001B[39mpolicies)\n\u001B[1;32m     10\u001B[0m \u001B[38;5;28mprint\u001B[39m(\u001B[38;5;124m'\u001B[39m\u001B[38;5;124mThere are \u001B[39m\u001B[38;5;124m'\u001B[39m \u001B[38;5;241m+\u001B[39m \u001B[38;5;28mstr\u001B[39m(\u001B[38;5;28mlen\u001B[39m(policies)) \u001B[38;5;241m+\u001B[39m \u001B[38;5;124m'\u001B[39m\u001B[38;5;124m policies in the GPI portfolio.\u001B[39m\u001B[38;5;124m'\u001B[39m)\n",
      "Cell \u001B[0;32mIn[21], line 128\u001B[0m, in \u001B[0;36mportfolio_with_gpi_pyomo\u001B[0;34m(vectors)\u001B[0m\n\u001B[1;32m    127\u001B[0m \u001B[38;5;28;01mdef\u001B[39;00m \u001B[38;5;21mportfolio_with_gpi_pyomo\u001B[39m(vectors):\n\u001B[0;32m--> 128\u001B[0m     weight_vectors, chosen_vectors \u001B[38;5;241m=\u001B[39m \u001B[43mgpi_with_pyomo\u001B[49m\u001B[43m(\u001B[49m\u001B[43mvectors\u001B[49m\u001B[43m)\u001B[49m\n\u001B[1;32m    130\u001B[0m     portfolio \u001B[38;5;241m=\u001B[39m Portfolio(\u001B[38;5;124m'\u001B[39m\u001B[38;5;124mGPI Portfolio\u001B[39m\u001B[38;5;124m'\u001B[39m)\n\u001B[1;32m    131\u001B[0m     \u001B[38;5;28;01mfor\u001B[39;00m chosen_vector \u001B[38;5;129;01min\u001B[39;00m chosen_vectors:\n",
      "Cell \u001B[0;32mIn[21], line 109\u001B[0m, in \u001B[0;36mgpi_with_pyomo\u001B[0;34m(vectors)\u001B[0m\n\u001B[1;32m    106\u001B[0m iteration \u001B[38;5;241m+\u001B[39m\u001B[38;5;241m=\u001B[39m \u001B[38;5;241m1\u001B[39m\n\u001B[1;32m    107\u001B[0m \u001B[38;5;66;03m# Find the next weight vector that maximizes the objective function\u001B[39;00m\n\u001B[1;32m    108\u001B[0m \u001B[38;5;66;03m# based on the current chosen vectors\u001B[39;00m\n\u001B[0;32m--> 109\u001B[0m weight_vector, optimal_vector, optimal_value \u001B[38;5;241m=\u001B[39m \u001B[43mfind_maximal_weight_vector_evolution\u001B[49m\u001B[43m(\u001B[49m\u001B[43mvectors\u001B[49m\u001B[43m,\u001B[49m\u001B[43m \u001B[49m\u001B[43mchosen_vectors\u001B[49m\u001B[43m)\u001B[49m\n\u001B[1;32m    110\u001B[0m \u001B[38;5;66;03m# print(f\"Optimal Value: {optimal_value}, Weight Vector: {weight_vector}\")\u001B[39;00m\n\u001B[1;32m    112\u001B[0m \u001B[38;5;28;01mif\u001B[39;00m optimal_vector \u001B[38;5;129;01mis\u001B[39;00m \u001B[38;5;28;01mNone\u001B[39;00m:\n",
      "Cell \u001B[0;32mIn[21], line 75\u001B[0m, in \u001B[0;36mfind_maximal_weight_vector_evolution\u001B[0;34m(vectors, chosen_vectors)\u001B[0m\n\u001B[1;32m     72\u001B[0m     \u001B[38;5;28;01mreturn\u001B[39;00m opt_chosen \u001B[38;5;241m-\u001B[39m opt_all  \u001B[38;5;66;03m# want to minimize this difference\u001B[39;00m\n\u001B[1;32m     74\u001B[0m bounds \u001B[38;5;241m=\u001B[39m [(\u001B[38;5;241m0\u001B[39m, \u001B[38;5;241m1\u001B[39m)] \u001B[38;5;241m*\u001B[39m d\n\u001B[0;32m---> 75\u001B[0m result \u001B[38;5;241m=\u001B[39m \u001B[43mdifferential_evolution\u001B[49m\u001B[43m(\u001B[49m\u001B[43mobjective\u001B[49m\u001B[43m,\u001B[49m\u001B[43m \u001B[49m\u001B[43mbounds\u001B[49m\u001B[43m,\u001B[49m\u001B[43m \u001B[49m\u001B[43mtol\u001B[49m\u001B[38;5;241;43m=\u001B[39;49m\u001B[38;5;241;43m1e-2\u001B[39;49m\u001B[43m,\u001B[49m\u001B[43m \u001B[49m\u001B[43mpopsize\u001B[49m\u001B[38;5;241;43m=\u001B[39;49m\u001B[38;5;241;43m100\u001B[39;49m\u001B[43m,\u001B[49m\u001B[43m \u001B[49m\u001B[43mdisp\u001B[49m\u001B[38;5;241;43m=\u001B[39;49m\u001B[38;5;28;43;01mFalse\u001B[39;49;00m\u001B[43m)\u001B[49m\n\u001B[1;32m     77\u001B[0m \u001B[38;5;28;01mif\u001B[39;00m result\u001B[38;5;241m.\u001B[39msuccess:\n\u001B[1;32m     78\u001B[0m     w_opt \u001B[38;5;241m=\u001B[39m result\u001B[38;5;241m.\u001B[39mx \u001B[38;5;241m/\u001B[39m np\u001B[38;5;241m.\u001B[39msum(result\u001B[38;5;241m.\u001B[39mx)\n",
      "File \u001B[0;32m~/Library/Python/3.9/lib/python/site-packages/scipy/optimize/_differentialevolution.py:502\u001B[0m, in \u001B[0;36mdifferential_evolution\u001B[0;34m(func, bounds, args, strategy, maxiter, popsize, tol, mutation, recombination, seed, callback, disp, polish, init, atol, updating, workers, constraints, x0, integrality, vectorized)\u001B[0m\n\u001B[1;32m    485\u001B[0m \u001B[38;5;66;03m# using a context manager means that any created Pool objects are\u001B[39;00m\n\u001B[1;32m    486\u001B[0m \u001B[38;5;66;03m# cleared up.\u001B[39;00m\n\u001B[1;32m    487\u001B[0m \u001B[38;5;28;01mwith\u001B[39;00m DifferentialEvolutionSolver(func, bounds, args\u001B[38;5;241m=\u001B[39margs,\n\u001B[1;32m    488\u001B[0m                                  strategy\u001B[38;5;241m=\u001B[39mstrategy,\n\u001B[1;32m    489\u001B[0m                                  maxiter\u001B[38;5;241m=\u001B[39mmaxiter,\n\u001B[0;32m   (...)\u001B[0m\n\u001B[1;32m    500\u001B[0m                                  integrality\u001B[38;5;241m=\u001B[39mintegrality,\n\u001B[1;32m    501\u001B[0m                                  vectorized\u001B[38;5;241m=\u001B[39mvectorized) \u001B[38;5;28;01mas\u001B[39;00m solver:\n\u001B[0;32m--> 502\u001B[0m     ret \u001B[38;5;241m=\u001B[39m \u001B[43msolver\u001B[49m\u001B[38;5;241;43m.\u001B[39;49m\u001B[43msolve\u001B[49m\u001B[43m(\u001B[49m\u001B[43m)\u001B[49m\n\u001B[1;32m    504\u001B[0m \u001B[38;5;28;01mreturn\u001B[39;00m ret\n",
      "File \u001B[0;32m~/Library/Python/3.9/lib/python/site-packages/scipy/optimize/_differentialevolution.py:1164\u001B[0m, in \u001B[0;36mDifferentialEvolutionSolver.solve\u001B[0;34m(self)\u001B[0m\n\u001B[1;32m   1161\u001B[0m \u001B[38;5;28;01mfor\u001B[39;00m nit \u001B[38;5;129;01min\u001B[39;00m \u001B[38;5;28mrange\u001B[39m(\u001B[38;5;241m1\u001B[39m, \u001B[38;5;28mself\u001B[39m\u001B[38;5;241m.\u001B[39mmaxiter \u001B[38;5;241m+\u001B[39m \u001B[38;5;241m1\u001B[39m):\n\u001B[1;32m   1162\u001B[0m     \u001B[38;5;66;03m# evolve the population by a generation\u001B[39;00m\n\u001B[1;32m   1163\u001B[0m     \u001B[38;5;28;01mtry\u001B[39;00m:\n\u001B[0;32m-> 1164\u001B[0m         \u001B[38;5;28;43mnext\u001B[39;49m\u001B[43m(\u001B[49m\u001B[38;5;28;43mself\u001B[39;49m\u001B[43m)\u001B[49m\n\u001B[1;32m   1165\u001B[0m     \u001B[38;5;28;01mexcept\u001B[39;00m \u001B[38;5;167;01mStopIteration\u001B[39;00m:\n\u001B[1;32m   1166\u001B[0m         warning_flag \u001B[38;5;241m=\u001B[39m \u001B[38;5;28;01mTrue\u001B[39;00m\n",
      "File \u001B[0;32m~/Library/Python/3.9/lib/python/site-packages/scipy/optimize/_differentialevolution.py:1557\u001B[0m, in \u001B[0;36mDifferentialEvolutionSolver.__next__\u001B[0;34m(self)\u001B[0m\n\u001B[1;32m   1554\u001B[0m     \u001B[38;5;28;01mraise\u001B[39;00m \u001B[38;5;167;01mStopIteration\u001B[39;00m\n\u001B[1;32m   1556\u001B[0m \u001B[38;5;66;03m# create a trial solution\u001B[39;00m\n\u001B[0;32m-> 1557\u001B[0m trial \u001B[38;5;241m=\u001B[39m \u001B[38;5;28;43mself\u001B[39;49m\u001B[38;5;241;43m.\u001B[39;49m\u001B[43m_mutate\u001B[49m\u001B[43m(\u001B[49m\u001B[43mcandidate\u001B[49m\u001B[43m)\u001B[49m\n\u001B[1;32m   1559\u001B[0m \u001B[38;5;66;03m# ensuring that it's in the range [0, 1)\u001B[39;00m\n\u001B[1;32m   1560\u001B[0m \u001B[38;5;28mself\u001B[39m\u001B[38;5;241m.\u001B[39m_ensure_constraint(trial)\n",
      "File \u001B[0;32m~/Library/Python/3.9/lib/python/site-packages/scipy/optimize/_differentialevolution.py:1688\u001B[0m, in \u001B[0;36mDifferentialEvolutionSolver._mutate\u001B[0;34m(self, candidate)\u001B[0m\n\u001B[1;32m   1685\u001B[0m     bprime \u001B[38;5;241m=\u001B[39m \u001B[38;5;28mself\u001B[39m\u001B[38;5;241m.\u001B[39mmutation_func(candidate,\n\u001B[1;32m   1686\u001B[0m                                 \u001B[38;5;28mself\u001B[39m\u001B[38;5;241m.\u001B[39m_select_samples(candidate, \u001B[38;5;241m5\u001B[39m))\n\u001B[1;32m   1687\u001B[0m \u001B[38;5;28;01melse\u001B[39;00m:\n\u001B[0;32m-> 1688\u001B[0m     bprime \u001B[38;5;241m=\u001B[39m \u001B[38;5;28mself\u001B[39m\u001B[38;5;241m.\u001B[39mmutation_func(\u001B[38;5;28;43mself\u001B[39;49m\u001B[38;5;241;43m.\u001B[39;49m\u001B[43m_select_samples\u001B[49m\u001B[43m(\u001B[49m\u001B[43mcandidate\u001B[49m\u001B[43m,\u001B[49m\u001B[43m \u001B[49m\u001B[38;5;241;43m5\u001B[39;49m\u001B[43m)\u001B[49m)\n\u001B[1;32m   1690\u001B[0m \u001B[38;5;28;01mif\u001B[39;00m \u001B[38;5;28mself\u001B[39m\u001B[38;5;241m.\u001B[39mstrategy \u001B[38;5;129;01min\u001B[39;00m \u001B[38;5;28mself\u001B[39m\u001B[38;5;241m.\u001B[39m_binomial:\n\u001B[1;32m   1691\u001B[0m     crossovers \u001B[38;5;241m=\u001B[39m rng\u001B[38;5;241m.\u001B[39muniform(size\u001B[38;5;241m=\u001B[39m\u001B[38;5;28mself\u001B[39m\u001B[38;5;241m.\u001B[39mparameter_count)\n",
      "File \u001B[0;32m~/Library/Python/3.9/lib/python/site-packages/scipy/optimize/_differentialevolution.py:1766\u001B[0m, in \u001B[0;36mDifferentialEvolutionSolver._select_samples\u001B[0;34m(self, candidate, number_samples)\u001B[0m\n\u001B[1;32m   1761\u001B[0m \u001B[38;5;250m\u001B[39m\u001B[38;5;124;03m\"\"\"\u001B[39;00m\n\u001B[1;32m   1762\u001B[0m \u001B[38;5;124;03mobtain random integers from range(self.num_population_members),\u001B[39;00m\n\u001B[1;32m   1763\u001B[0m \u001B[38;5;124;03mwithout replacement. You can't have the original candidate either.\u001B[39;00m\n\u001B[1;32m   1764\u001B[0m \u001B[38;5;124;03m\"\"\"\u001B[39;00m\n\u001B[1;32m   1765\u001B[0m pool \u001B[38;5;241m=\u001B[39m np\u001B[38;5;241m.\u001B[39marange(\u001B[38;5;28mself\u001B[39m\u001B[38;5;241m.\u001B[39mnum_population_members)\n\u001B[0;32m-> 1766\u001B[0m \u001B[38;5;28;43mself\u001B[39;49m\u001B[38;5;241;43m.\u001B[39;49m\u001B[43mrandom_number_generator\u001B[49m\u001B[38;5;241;43m.\u001B[39;49m\u001B[43mshuffle\u001B[49m\u001B[43m(\u001B[49m\u001B[43mpool\u001B[49m\u001B[43m)\u001B[49m\n\u001B[1;32m   1768\u001B[0m idxs \u001B[38;5;241m=\u001B[39m []\n\u001B[1;32m   1769\u001B[0m \u001B[38;5;28;01mwhile\u001B[39;00m \u001B[38;5;28mlen\u001B[39m(idxs) \u001B[38;5;241m<\u001B[39m number_samples \u001B[38;5;129;01mand\u001B[39;00m \u001B[38;5;28mlen\u001B[39m(pool) \u001B[38;5;241m>\u001B[39m \u001B[38;5;241m0\u001B[39m:\n",
      "\u001B[0;31mKeyboardInterrupt\u001B[0m: "
     ]
    }
   ],
   "execution_count": 22
  },
  {
   "metadata": {
    "ExecuteTime": {
     "end_time": "2025-05-22T13:08:01.698133Z",
     "start_time": "2025-05-22T13:08:01.690879Z"
    }
   },
   "cell_type": "code",
   "source": "gpi_results",
   "id": "d64a045457de4b4e",
   "outputs": [
    {
     "data": {
      "text/plain": [
       "   approximation\n",
       "K               \n",
       "1       0.514411\n",
       "2       0.519032\n",
       "3       0.519032\n",
       "4       0.519032\n",
       "5       0.735955\n",
       "6       0.735955\n",
       "7       0.735955\n",
       "8       0.735955\n",
       "9       0.735955\n",
       "10      0.735955\n",
       "11      0.735955"
      ],
      "text/html": [
       "<div>\n",
       "<style scoped>\n",
       "    .dataframe tbody tr th:only-of-type {\n",
       "        vertical-align: middle;\n",
       "    }\n",
       "\n",
       "    .dataframe tbody tr th {\n",
       "        vertical-align: top;\n",
       "    }\n",
       "\n",
       "    .dataframe thead th {\n",
       "        text-align: right;\n",
       "    }\n",
       "</style>\n",
       "<table border=\"1\" class=\"dataframe\">\n",
       "  <thead>\n",
       "    <tr style=\"text-align: right;\">\n",
       "      <th></th>\n",
       "      <th>approximation</th>\n",
       "    </tr>\n",
       "    <tr>\n",
       "      <th>K</th>\n",
       "      <th></th>\n",
       "    </tr>\n",
       "  </thead>\n",
       "  <tbody>\n",
       "    <tr>\n",
       "      <th>1</th>\n",
       "      <td>0.514411</td>\n",
       "    </tr>\n",
       "    <tr>\n",
       "      <th>2</th>\n",
       "      <td>0.519032</td>\n",
       "    </tr>\n",
       "    <tr>\n",
       "      <th>3</th>\n",
       "      <td>0.519032</td>\n",
       "    </tr>\n",
       "    <tr>\n",
       "      <th>4</th>\n",
       "      <td>0.519032</td>\n",
       "    </tr>\n",
       "    <tr>\n",
       "      <th>5</th>\n",
       "      <td>0.735955</td>\n",
       "    </tr>\n",
       "    <tr>\n",
       "      <th>6</th>\n",
       "      <td>0.735955</td>\n",
       "    </tr>\n",
       "    <tr>\n",
       "      <th>7</th>\n",
       "      <td>0.735955</td>\n",
       "    </tr>\n",
       "    <tr>\n",
       "      <th>8</th>\n",
       "      <td>0.735955</td>\n",
       "    </tr>\n",
       "    <tr>\n",
       "      <th>9</th>\n",
       "      <td>0.735955</td>\n",
       "    </tr>\n",
       "    <tr>\n",
       "      <th>10</th>\n",
       "      <td>0.735955</td>\n",
       "    </tr>\n",
       "    <tr>\n",
       "      <th>11</th>\n",
       "      <td>0.735955</td>\n",
       "    </tr>\n",
       "  </tbody>\n",
       "</table>\n",
       "</div>"
      ]
     },
     "execution_count": 45,
     "metadata": {},
     "output_type": "execute_result"
    }
   ],
   "execution_count": 45
  },
  {
   "metadata": {},
   "cell_type": "code",
   "source": "gpi_results.to_csv('../../data/natural_disaster/gpi_portfolio.csv')",
   "id": "3b7cd6d6cf8210b9",
   "outputs": [],
   "execution_count": null
  },
  {
   "metadata": {},
   "cell_type": "code",
   "source": "",
   "id": "22f5ddd4c790ffc0",
   "outputs": [],
   "execution_count": null
  }
 ],
 "metadata": {
  "kernelspec": {
   "display_name": "Python 3",
   "language": "python",
   "name": "python3"
  },
  "language_info": {
   "codemirror_mode": {
    "name": "ipython",
    "version": 2
   },
   "file_extension": ".py",
   "mimetype": "text/x-python",
   "name": "python",
   "nbconvert_exporter": "python",
   "pygments_lexer": "ipython2",
   "version": "2.7.6"
  }
 },
 "nbformat": 4,
 "nbformat_minor": 5
}
